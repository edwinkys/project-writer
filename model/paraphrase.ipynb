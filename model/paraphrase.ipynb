{
 "metadata": {
  "language_info": {
   "codemirror_mode": {
    "name": "ipython",
    "version": 3
   },
   "file_extension": ".py",
   "mimetype": "text/x-python",
   "name": "python",
   "nbconvert_exporter": "python",
   "pygments_lexer": "ipython3",
   "version": "3.8.2-final"
  },
  "orig_nbformat": 2,
  "kernelspec": {
   "name": "python38264bit382pyenv1518160d034e4ba6ab51bd99c9504900",
   "display_name": "Python 3.8.2 64-bit ('3.8.2': pyenv)"
  }
 },
 "nbformat": 4,
 "nbformat_minor": 2,
 "cells": [
  {
   "cell_type": "markdown",
   "metadata": {},
   "source": [
    "# Paraphrase Class\n",
    "\n",
    "This notebook contains the class to paraphrase the paragraph or at least give recommendation of what to paraphrase just like Grammarly."
   ]
  },
  {
   "cell_type": "markdown",
   "metadata": {},
   "source": [
    "## Start Notebook\n",
    "Run all of the command below to start the notebook training session of the model."
   ]
  },
  {
   "cell_type": "markdown",
   "metadata": {},
   "source": [
    "Uncomment and run the code below to kill the runtime in Google Colaboratory"
   ]
  },
  {
   "cell_type": "code",
   "execution_count": null,
   "metadata": {},
   "outputs": [],
   "source": [
    "# !kill -9 -1\n"
   ]
  },
  {
   "cell_type": "markdown",
   "metadata": {},
   "source": [
    "Import necessary libraries"
   ]
  },
  {
   "cell_type": "code",
   "execution_count": 3,
   "metadata": {},
   "outputs": [],
   "source": [
    "# Import libraries\n",
    "import re\n",
    "import nltk\n"
   ]
  },
  {
   "cell_type": "markdown",
   "metadata": {},
   "source": [
    "## Paraphrasing Text (Under Development)\n",
    "This function is used to paraphrase the sentences to avoid direct plagiarism."
   ]
  },
  {
   "cell_type": "code",
   "execution_count": 124,
   "metadata": {},
   "outputs": [],
   "source": [
    "def paraphrase_paragraph(paragraphs):\n",
    "    '''\n",
    "\n",
    "    Function to paraphrase list of paragraphs.\n",
    "\n",
    "    @paragraph: A list containing the paragraphs\n",
    "\n",
    "    return: Paraphrased paragraphs\n",
    "\n",
    "    '''\n",
    "\n",
    "    def tag(sentence):\n",
    "        '''\n",
    "\n",
    "        Function to tag a word with their type.\n",
    "\n",
    "        @sentence: String sentence\n",
    "\n",
    "        return: List of words with their tags\n",
    "\n",
    "        '''\n",
    "\n",
    "        words = nltk.tokenize.word_tokenize(sentence)\n",
    "        words = nltk.tag.pos_tag(words)\n",
    "\n",
    "        return words\n",
    "\n",
    "    def paraphraseable(tag):\n",
    "        return tag.startswith('NN') or tag == 'VB' or tag.startswith('JJ')\n",
    "\n",
    "    def pos(tag):\n",
    "        if tag.startswith('NN'):\n",
    "            return nltk.corpus.wordnet.NOUN\n",
    "        elif tag.startswith('V'):\n",
    "            return nltk.corpus.wordnet.VERB\n",
    "\n",
    "    def synonyms(word, tag): \n",
    "        lemma_lists = [ss.lemmas() for ss in nltk.corpus.wordnet.synsets(word, pos(tag))]\n",
    "        lemmas = [lemma.name() for lemma in sum(lemma_lists, [])]\n",
    "        return set(lemmas)\n",
    "\n",
    "    def if_synonym_exists(sentence):\n",
    "        for (word, t) in tag(sentence):\n",
    "            if paraphraseable(t):\n",
    "                syns = synonyms(word, t)\n",
    "                if syns:\n",
    "                    if len(syns) > 1:\n",
    "                        yield [word, list(syns)[1]]\n",
    "                        continue\n",
    "            yield [word, '']\n",
    "\n",
    "    def sentence_paraphrase(sentence):\n",
    "        return [w for w in if_synonym_exists(sentence)]\n",
    "\n",
    "    # 2D array of sentences in each paragraph\n",
    "    list_sentences = []\n",
    "\n",
    "    # Convert a list paragraph into lists of sentences\n",
    "    for paragraph in paragraphs:\n",
    "        sentences = [s for s in nltk.tokenize.sent_tokenize(paragraph)]\n",
    "\n",
    "        # Loop over the sentences\n",
    "        for sentence in sentences:\n",
    "            sentence = sentence_paraphrase(sentence)\n",
    "\n",
    "        list_sentences.append(sentences)\n",
    "\n",
    "    return list_sentences\n"
   ]
  },
  {
   "cell_type": "markdown",
   "metadata": {},
   "source": [
    "Testing the paraphraser function"
   ]
  },
  {
   "cell_type": "code",
   "execution_count": 125,
   "metadata": {
    "tags": []
   },
   "outputs": [
    {
     "output_type": "stream",
     "name": "stdout",
     "text": "[['At its core, AI is the branch of computer science that aims to answer Turing question in the affirmative.', 'It is the endeavor to replicate or simulate human intelligence in machines.'], ['The expansive goal of artificial intelligence has given rise to many questions and debates.', 'So much so, that no singular definition of the field is universally accepted.']]\n"
    }
   ],
   "source": [
    "test_paragraphs = ['At its core, AI is the branch of computer science that aims to answer Turing question in the affirmative. It is the endeavor to replicate or simulate human intelligence in machines.', 'The expansive goal of artificial intelligence has given rise to many questions and debates. So much so, that no singular definition of the field is universally accepted.']\n",
    "\n",
    "print(paraphrase_paragraph(test_paragraphs))\n"
   ]
  },
  {
   "cell_type": "markdown",
   "metadata": {},
   "source": [
    "## Grammar Check (Under Development)\n",
    "This function is used to check and correct any grammatical error in the paragraph."
   ]
  },
  {
   "cell_type": "code",
   "execution_count": null,
   "metadata": {},
   "outputs": [],
   "source": []
  }
 ]
}